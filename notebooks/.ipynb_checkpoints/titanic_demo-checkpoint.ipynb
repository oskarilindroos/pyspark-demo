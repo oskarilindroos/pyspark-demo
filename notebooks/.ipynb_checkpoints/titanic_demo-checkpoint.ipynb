{
 "cells": [
  {
   "cell_type": "code",
   "execution_count": 2,
   "id": "b80d4a7b-4402-4ae1-83fb-2a663459c775",
   "metadata": {},
   "outputs": [],
   "source": [
    "from pyspark.sql import SparkSession\n",
    "from pyspark.ml.feature import VectorAssembler, MinMaxScaler\n",
    "from pyspark.sql.functions import col, when\n",
    "from pyspark.ml import Pipeline\n",
    "from pyspark.ml.classification import DecisionTreeClassifier\n",
    "from pyspark.ml.evaluation import MulticlassClassificationEvaluator"
   ]
  },
  {
   "cell_type": "code",
   "execution_count": 4,
   "id": "63d64ae7-deb2-4dd9-8db4-c74a6ce3c72a",
   "metadata": {},
   "outputs": [
    {
     "name": "stdout",
     "output_type": "stream",
     "text": [
      "787369\n"
     ]
    }
   ],
   "source": [
    "spark = SparkSession.builder.getOrCreate()\n",
    "\n",
    "cols_to_scale = ['Age','Fare']\n",
    "cols_to_keep = ['Sex','Pclass']\n",
    "\n",
    "df = spark.read.csv('../data/titanic.csv', header=True, inferSchema=True)\n",
    "df = df[['Survived', 'Pclass', 'Sex', 'Age','Fare']]\n",
    "df = df.dropna()\n",
    "df = df.filter(df.Age != 0)\n",
    "print(df.count())\n",
    "# Expected: 787369"
   ]
  },
  {
   "cell_type": "code",
   "execution_count": 8,
   "id": "6c502a18-dd49-482e-8703-f2dedf0e1c34",
   "metadata": {},
   "outputs": [
    {
     "name": "stdout",
     "output_type": "stream",
     "text": [
      "+--------+--------------------------------------------------+\n",
      "|Survived|features                                          |\n",
      "+--------+--------------------------------------------------+\n",
      "|0       |[0.24778761061946902,0.015904754758092696,1.0,3.0]|\n",
      "|0       |[0.16814159292035397,0.01877004833956327,1.0,3.0] |\n",
      "|0       |[0.23008849557522124,0.02095458141404183,1.0,3.0] |\n",
      "|0       |[0.2743362831858407,0.0075532738640296014,1.0,3.0]|\n",
      "|1       |[0.23893805309734512,0.04361173759832368,1.0,2.0] |\n",
      "|0       |[0.2743362831858407,0.0,1.0,2.0]                  |\n",
      "|1       |[0.19469026548672566,0.032490370040029116,1.0,3.0]|\n",
      "|1       |[0.45132743362831856,0.05748836566650268,1.0,1.0] |\n",
      "|0       |[0.39823008849557523,0.0,1.0,3.0]                 |\n",
      "|0       |[0.24778761061946902,0.019152017872940935,1.0,3.0]|\n",
      "+--------+--------------------------------------------------+\n",
      "only showing top 10 rows\n",
      "\n"
     ]
    }
   ],
   "source": [
    "df = df.withColumn(\"Sex\", when(col(\"Sex\") == \"male\", 0).otherwise(1))\n",
    "\n",
    "assembler1 = VectorAssembler(\n",
    "    inputCols=cols_to_scale,\n",
    "    outputCol=\"features_to_scale\")\n",
    "\n",
    "assembler2 = VectorAssembler(\n",
    "    inputCols=cols_to_keep,\n",
    "    outputCol=\"unscaled\"\n",
    ")\n",
    "\n",
    "scaler = MinMaxScaler(inputCol=\"features_to_scale\", outputCol=\"scaled\")\n",
    "\n",
    "assembler3 = VectorAssembler(\n",
    "    inputCols=[\"scaled\", \"unscaled\"],\n",
    "    outputCol=\"features\"\n",
    ")\n",
    "\n",
    "pipeline = Pipeline(stages=[assembler1, assembler2, scaler, assembler3])\n",
    "pipeline_model = pipeline.fit(df)\n",
    "scaled_df = pipeline_model.transform(df)\n",
    "scaled_df = scaled_df.select('Survived', 'features')\n",
    "\n",
    "scaled_df.show(10, truncate=False)\n"
   ]
  },
  {
   "cell_type": "code",
   "execution_count": 10,
   "id": "0d1de48d-e6a8-4d57-99d5-24669b3abbd4",
   "metadata": {},
   "outputs": [
    {
     "name": "stdout",
     "output_type": "stream",
     "text": [
      "+--------+----------------------------------+------------------+---------------------------------------+----------+\n",
      "|Survived|features                          |rawPrediction     |probability                            |prediction|\n",
      "+--------+----------------------------------+------------------+---------------------------------------+----------+\n",
      "|0       |[0.0,0.008049327506103945,1.0,3.0]|[164878.0,60305.0]|[0.7321955920295937,0.2678044079704063]|0.0       |\n",
      "|0       |[0.0,0.008180817014993144,1.0,3.0]|[164878.0,60305.0]|[0.7321955920295937,0.2678044079704063]|0.0       |\n",
      "|0       |[0.0,0.01012364264862264,1.0,3.0] |[164878.0,60305.0]|[0.7321955920295937,0.2678044079704063]|0.0       |\n",
      "|0       |[0.0,0.011354417905189346,1.0,3.0]|[164878.0,60305.0]|[0.7321955920295937,0.2678044079704063]|0.0       |\n",
      "|0       |[0.0,0.011652218062277137,1.0,3.0]|[164878.0,60305.0]|[0.7321955920295937,0.2678044079704063]|0.0       |\n",
      "|0       |[0.0,0.01359878901808654,1.0,3.0] |[164878.0,60305.0]|[0.7321955920295937,0.2678044079704063]|0.0       |\n",
      "|0       |[0.0,0.017009631366414583,1.0,3.0]|[164878.0,60305.0]|[0.7321955920295937,0.2678044079704063]|0.0       |\n",
      "|0       |[0.0,0.017995629766812585,1.0,3.0]|[164878.0,60305.0]|[0.7321955920295937,0.2678044079704063]|0.0       |\n",
      "|0       |[0.0,0.019098561851866973,1.0,3.0]|[164878.0,60305.0]|[0.7321955920295937,0.2678044079704063]|0.0       |\n",
      "|0       |[0.0,0.021417717785643997,1.0,3.0]|[164878.0,60305.0]|[0.7321955920295937,0.2678044079704063]|0.0       |\n",
      "+--------+----------------------------------+------------------+---------------------------------------+----------+\n",
      "only showing top 10 rows\n",
      "\n"
     ]
    }
   ],
   "source": [
    "train, test = scaled_df.randomSplit([0.8, 0.2])\n",
    "\n",
    "model = DecisionTreeClassifier(labelCol='Survived').fit(train)\n"
   ]
  },
  {
   "cell_type": "code",
   "execution_count": null,
   "id": "eb725950-f549-40ba-83b7-0ad32083d2cc",
   "metadata": {},
   "outputs": [],
   "source": [
    "predictions = model.transform(test)\n",
    "predictions.show(10, truncate=False)"
   ]
  },
  {
   "cell_type": "code",
   "execution_count": 11,
   "id": "0f121c34-d173-4288-91d0-b420c023ea28",
   "metadata": {},
   "outputs": [
    {
     "name": "stdout",
     "output_type": "stream",
     "text": [
      "Accuracy: 0.7052136616362192, Precision: 0.6975178545056624\n"
     ]
    }
   ],
   "source": [
    "accuracy = MulticlassClassificationEvaluator(labelCol=\"Survived\", metricName=\"accuracy\").evaluate(predictions)\n",
    "precision = MulticlassClassificationEvaluator(labelCol=\"Survived\", metricName=\"weightedPrecision\").evaluate(predictions)\n",
    "\n",
    "print(\"Accuracy: {}, Precision: {}\".format(accuracy, precision))"
   ]
  },
  {
   "cell_type": "code",
   "execution_count": null,
   "id": "db1e7d57-255b-4692-9aed-e7f16513307b",
   "metadata": {},
   "outputs": [],
   "source": []
  }
 ],
 "metadata": {
  "kernelspec": {
   "display_name": "Python 3 (ipykernel)",
   "language": "python",
   "name": "python3"
  },
  "language_info": {
   "codemirror_mode": {
    "name": "ipython",
    "version": 3
   },
   "file_extension": ".py",
   "mimetype": "text/x-python",
   "name": "python",
   "nbconvert_exporter": "python",
   "pygments_lexer": "ipython3",
   "version": "3.11.6"
  }
 },
 "nbformat": 4,
 "nbformat_minor": 5
}
